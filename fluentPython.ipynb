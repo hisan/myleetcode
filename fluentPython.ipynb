{
  "nbformat": 4,
  "nbformat_minor": 0,
  "metadata": {
    "colab": {
      "provenance": [],
      "authorship_tag": "ABX9TyOsd3WpsyHMOxhbyORNZtbe",
      "include_colab_link": true
    },
    "kernelspec": {
      "name": "python3",
      "display_name": "Python 3"
    },
    "language_info": {
      "name": "python"
    }
  },
  "cells": [
    {
      "cell_type": "markdown",
      "metadata": {
        "id": "view-in-github",
        "colab_type": "text"
      },
      "source": [
        "<a href=\"https://colab.research.google.com/github/hisan/myleetcode/blob/master/fluentPython.ipynb\" target=\"_parent\"><img src=\"https://colab.research.google.com/assets/colab-badge.svg\" alt=\"Open In Colab\"/></a>"
      ]
    },
    {
      "cell_type": "code",
      "execution_count": null,
      "metadata": {
        "id": "6JX99N9WXNCn"
      },
      "outputs": [],
      "source": []
    },
    {
      "cell_type": "markdown",
      "source": [
        "# 4ch\n"
      ],
      "metadata": {
        "id": "dv8SeoE2XTrK"
      }
    },
    {
      "cell_type": "code",
      "source": [
        "s1 = 'café'\n",
        "s2 = 'cafe\\N{COMBINING ACUTE ACCENT}'\n",
        "print(s1)\n",
        "print(s2)\n",
        "print(len(s1))\n",
        "print(len(s2))\n",
        "print(s1 == s2)\n",
        "print(\"-------------\\n\")\n",
        "print(ord('é'))\n",
        "print(\"-------------\\n\")\n",
        "for char in s2[3:]:\n",
        "    print(ord(char))"
      ],
      "metadata": {
        "colab": {
          "base_uri": "https://localhost:8080/"
        },
        "id": "2VbAAgOzXYpo",
        "outputId": "ae3dbe17-a783-4117-da96-4d59fb486bd6"
      },
      "execution_count": 5,
      "outputs": [
        {
          "output_type": "stream",
          "name": "stdout",
          "text": [
            "café\n",
            "café\n",
            "4\n",
            "5\n",
            "False\n",
            "-------------\n",
            "\n",
            "233\n",
            "-------------\n",
            "\n",
            "101\n",
            "769\n"
          ]
        }
      ]
    }
  ]
}