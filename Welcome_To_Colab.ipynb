{
  "cells": [
    {
      "cell_type": "markdown",
      "metadata": {
        "id": "view-in-github",
        "colab_type": "text"
      },
      "source": [
        "<a href=\"https://colab.research.google.com/github/hisan/myleetcode/blob/master/Welcome_To_Colab.ipynb\" target=\"_parent\"><img src=\"https://colab.research.google.com/assets/colab-badge.svg\" alt=\"Open In Colab\"/></a>"
      ]
    },
    {
      "cell_type": "markdown",
      "source": [
        "# Learning-OpenCV-4-Computer-Vision-with-Python-3"
      ],
      "metadata": {
        "id": "-tqBFBDkVbGg"
      }
    },
    {
      "cell_type": "markdown",
      "source": [
        "## Chapter 2: Handling Files, Cameras, and GUIs"
      ],
      "metadata": {
        "id": "kxBZRKgcV_Q6"
      }
    },
    {
      "cell_type": "code",
      "source": [
        "import numpy\n",
        "import cv2\n",
        "\n",
        "img = numpy.zeros((3, 3), dtype=numpy.uint8)\n",
        "print(img)\n",
        "print(\"----------------\\n\")\n",
        "img2 = cv2.cvtColor(img, cv2.COLOR_GRAY2BGR)\n",
        "print(img2)"
      ],
      "metadata": {
        "colab": {
          "base_uri": "https://localhost:8080/"
        },
        "id": "gOOhXt95Vvwa",
        "outputId": "e9718dfb-b942-49e9-d653-92873dd52821"
      },
      "execution_count": 2,
      "outputs": [
        {
          "output_type": "stream",
          "name": "stdout",
          "text": [
            "[[0 0 0]\n",
            " [0 0 0]\n",
            " [0 0 0]]\n",
            "----------------\n",
            "\n",
            "[[[0 0 0]\n",
            "  [0 0 0]\n",
            "  [0 0 0]]\n",
            "\n",
            " [[0 0 0]\n",
            "  [0 0 0]\n",
            "  [0 0 0]]\n",
            "\n",
            " [[0 0 0]\n",
            "  [0 0 0]\n",
            "  [0 0 0]]]\n"
          ]
        }
      ]
    },
    {
      "cell_type": "markdown",
      "source": [
        "如上示例,演示了一个3x3的 `Grayscale Image` 和 3x3x3的 `Color Image` in BGR(Blue, Green, Red) format.\n",
        "\n",
        "### `Grayscale Image` and `Color Image`:\n",
        "| **Grayscale**                        | **BGR (Color)**                     |\n",
        "|--------------------------------------|-------------------------------------|\n",
        "| Requires less memory (1 byte/pixel). | Requires more memory (3 bytes/pixel). |\n",
        "| Used for tasks where color is not important (e.g., edge detection, thresholding). | Required for tasks involving color analysis (e.g., object detection, color segmentation). |\n",
        "| Simpler to process and faster for computation. | More information for advanced processing. |\n",
        "| Not suitable for applications requiring color. | Suitable for color-dependent tasks. |\n",
        "\n",
        "pixels: 3x3 = 9 <==> Width x Height\n",
        "所以通常说的1920x1080分辨率,即 2073600 个pixels. 即像素点越多图像越清晰.\n",
        "\n",
        "而对于灰度图来说, 用一个byte来表示一个pixel. 而对于颜色图, 则是3个color channel表示一个pixel, 每个color channel用一个byte来表示.\n",
        "\n",
        "如上img2:\n",
        "~~~sh\n",
        "img2 = [\n",
        "    [[0, 0, 0], [0, 0, 0], [0, 0, 0]],  # Row 0\n",
        "    [[0, 0, 0], [0, 0, 0], [0, 0, 0]],  # Row 1\n",
        "    [[0, 0, 0], [0, 0, 0], [0, 0, 0]]   # Row 2\n",
        "]\n",
        "~~~\n",
        "row x column x channel:\n",
        "即三行,每行三列,每列一个Pixel,由三个color channel组成.\n",
        "\n",
        "img2[0][0] 表示一个pixel.\n",
        "img2[0][0][0]: Blue channel value for the pixel.\n",
        "img2[0][0][1]: Green channel value for the pixel.\n",
        "img2[0][0][2]: Red channel value for the pixel."
      ],
      "metadata": {
        "id": "08-2VG4zoXLk"
      }
    },
    {
      "cell_type": "markdown",
      "source": [
        "使用3x3x3的array来生成Color image的示例"
      ],
      "metadata": {
        "id": "ZYb8z1Rdnc11"
      }
    },
    {
      "cell_type": "code",
      "source": [
        "import numpy as np\n",
        "import cv2\n",
        "from google.colab.patches import cv2_imshow  # Use this only for Google Colab\n",
        "\n",
        "# Create a 20x20x3 array representing the image\n",
        "img = np.zeros((20, 20, 3), dtype=np.uint8)\n",
        "\n",
        "# Fill the top-left (10x10) with red\n",
        "img[:10, :10] = [0, 0, 255]  # Red (BGR)\n",
        "\n",
        "# Fill the top-right (10x10) with green\n",
        "img[:10, 10:] = [0, 255, 0]  # Green (BGR)\n",
        "\n",
        "# Fill the bottom-left (10x10) with blue\n",
        "img[10:, :10] = [255, 0, 0]  # Blue (BGR)\n",
        "\n",
        "# Fill the bottom-right (10x10) with yellow\n",
        "img[10:, 10:] = [0, 255, 255]  # Yellow (BGR)\n",
        "\n",
        "# Display the image\n",
        "cv2_imshow(img)  # For Google Colab\n",
        "# cv2.imshow(\"20x20 Color Icon\", img)  # Use this for local machines\n"
      ],
      "metadata": {
        "id": "UJED3Lk9V9fq",
        "colab": {
          "base_uri": "https://localhost:8080/",
          "height": 37
        },
        "outputId": "03e43e7e-480d-421e-d3a9-c30dc06c8e1e"
      },
      "execution_count": 5,
      "outputs": [
        {
          "output_type": "display_data",
          "data": {
            "text/plain": [
              "<PIL.Image.Image image mode=RGB size=20x20>"
            ],
            "image/png": "[encoded data removed]",
            "image/jpeg": "[encoded data removed]"
          },
          "metadata": {}
        }
      ]
    }
  ],
  "metadata": {
    "colab": {
      "name": "Welcome To Colab",
      "toc_visible": true,
      "provenance": [],
      "include_colab_link": true
    },
    "kernelspec": {
      "display_name": "Python 3",
      "name": "python3"
    }
  },
  "nbformat": 4,
  "nbformat_minor": 0
}